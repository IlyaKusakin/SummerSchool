{
  "nbformat": 4,
  "nbformat_minor": 0,
  "metadata": {
    "kernelspec": {
      "display_name": "Python 3",
      "language": "python",
      "name": "python3"
    },
    "language_info": {
      "codemirror_mode": {
        "name": "ipython",
        "version": 3
      },
      "file_extension": ".py",
      "mimetype": "text/x-python",
      "name": "python",
      "nbconvert_exporter": "python",
      "pygments_lexer": "ipython3",
      "version": "3.7.3"
    },
    "toc": {
      "base_numbering": 1,
      "nav_menu": {},
      "number_sections": true,
      "sideBar": true,
      "skip_h1_title": false,
      "title_cell": "Table of Contents",
      "title_sidebar": "Contents",
      "toc_cell": false,
      "toc_position": {},
      "toc_section_display": true,
      "toc_window_display": false
    },
    "colab": {
      "name": "preprocess_and_training.ipynb",
      "provenance": [],
      "collapsed_sections": []
    }
  },
  "cells": [
    {
      "cell_type": "markdown",
      "metadata": {
        "id": "XCM0OUzwMFMr",
        "colab_type": "text"
      },
      "source": [
        "# Задача\n",
        "одна из проблем, которую мы видим при обращении в саппорт - в разрезе разных категорий обращения необходимо смотреть в разные сервисы и собирать дополнительную информацию. На это уходит много времени. на одно обращение уходит в среднем 2 минуты поиска дополнительной информации. Стоимость часа работы сотрудника 6$.\n",
        "\n",
        "Давайте поможем и оптимизируем время и деньги компании - сделаем модель,которая в зависимости от текста будет определять категорию обращения автоматически.\n",
        "\n",
        "Тогда мы сможем сразу подготавливать информацию для наших операторов в течение 5 секунд (сбор и передача на фронт)\n",
        "\n",
        "Нужно сделать модель многоклассовой классификации определения категории обращения"
      ]
    },
    {
      "cell_type": "markdown",
      "metadata": {
        "id": "mMXqZt_NMFMs",
        "colab_type": "text"
      },
      "source": [
        "# загружаем данные"
      ]
    },
    {
      "cell_type": "code",
      "metadata": {
        "id": "kEIqOWVIU7yN",
        "colab_type": "code",
        "colab": {}
      },
      "source": [
        "!pip install sumy\n",
        "!pip install stop_words\n",
        "import nltk\n",
        "nltk.download('stopwords')\n",
        "nltk.download('averaged_perceptron_tagger')\n",
        "  "
      ],
      "execution_count": null,
      "outputs": []
    },
    {
      "cell_type": "code",
      "metadata": {
        "id": "36yJxntuMFMt",
        "colab_type": "code",
        "colab": {}
      },
      "source": [
        "\n",
        "from sklearn.feature_extraction.text import TfidfVectorizer\n",
        "\n",
        "import datetime\n",
        "import requests\n",
        "import collections as co\n",
        "import string\n",
        "import re\n",
        "\n",
        "import nltk\n",
        "from sumy.utils import get_stop_words as gsw1\n",
        "from stop_words import get_stop_words as gsw2\n",
        "\n",
        "\n",
        "import pandas as pd\n",
        "import numpy as np"
      ],
      "execution_count": 2,
      "outputs": []
    },
    {
      "cell_type": "code",
      "metadata": {
        "id": "z88sYODsMFMw",
        "colab_type": "code",
        "colab": {
          "base_uri": "https://localhost:8080/",
          "height": 72
        },
        "outputId": "8792316f-b5c4-4e37-8f47-d5ecbef90e1c"
      },
      "source": [
        "\n",
        "from io import StringIO\n",
        "\n",
        "import matplotlib.pyplot as plt\n",
        "import seaborn as sns\n",
        "\n",
        "%matplotlib inline"
      ],
      "execution_count": 3,
      "outputs": [
        {
          "output_type": "stream",
          "text": [
            "/usr/local/lib/python3.6/dist-packages/statsmodels/tools/_testing.py:19: FutureWarning: pandas.util.testing is deprecated. Use the functions in the public API at pandas.testing instead.\n",
            "  import pandas.util.testing as tm\n"
          ],
          "name": "stderr"
        }
      ]
    },
    {
      "cell_type": "code",
      "metadata": {
        "id": "F_lRvwcEUzCP",
        "colab_type": "code",
        "colab": {}
      },
      "source": [
        "from google.colab import drive\n",
        "drive.mount('/content/drive')"
      ],
      "execution_count": null,
      "outputs": []
    },
    {
      "cell_type": "code",
      "metadata": {
        "id": "T_meQIGPMFMz",
        "colab_type": "code",
        "colab": {
          "base_uri": "https://localhost:8080/",
          "height": 35
        },
        "outputId": "b5e67962-1239-48ac-b0b9-4c0ccc1b300f"
      },
      "source": [
        "df = pd.read_csv('/content/drive/My Drive/Xsolla/nets/data/3categories_50.csv')\n",
        "df.shape"
      ],
      "execution_count": 5,
      "outputs": [
        {
          "output_type": "execute_result",
          "data": {
            "text/plain": [
              "(50000, 3)"
            ]
          },
          "metadata": {
            "tags": []
          },
          "execution_count": 5
        }
      ]
    },
    {
      "cell_type": "markdown",
      "metadata": {
        "id": "oZBahp9EMFM8",
        "colab_type": "text"
      },
      "source": [
        "# прежде всего очистка данных"
      ]
    },
    {
      "cell_type": "code",
      "metadata": {
        "id": "YibDziTPMFM9",
        "colab_type": "code",
        "colab": {}
      },
      "source": [
        "#убираем технические данные в сообщениях и прочий шум\n",
        "df['message'] = df['message'].str.replace('\\[.*\\]', '', regex=True)\n",
        "\n",
        "df['message'] = df['message'].str.replace(\"\\!\", '', regex=True)\n",
        "df['message'] = df['message'].str.replace(\"\\'\", '', regex=True)\n",
        "\n",
        "df['message'] = df['message'].str.replace(\"[^A-Za-z0-9^,!.\\/'+-=]\", ' ', regex=True)\n"
      ],
      "execution_count": 7,
      "outputs": []
    },
    {
      "cell_type": "code",
      "metadata": {
        "id": "-32Moc8fMFNA",
        "colab_type": "code",
        "colab": {}
      },
      "source": [
        "#переведем в нижний регистр\n",
        "df['message'] = df['message'].str.replace(\"\\s+\", ' ', regex=True)\n",
        "df['message'] = df['message'].str.lower()"
      ],
      "execution_count": 8,
      "outputs": []
    },
    {
      "cell_type": "code",
      "metadata": {
        "id": "HIRB30JRMFNC",
        "colab_type": "code",
        "colab": {
          "base_uri": "https://localhost:8080/",
          "height": 35
        },
        "outputId": "2f0d51c6-b769-4dd1-ebbc-2cb5415922ed"
      },
      "source": [
        "#уберем шум\n",
        "df.dropna(inplace = True)\n",
        "df.shape"
      ],
      "execution_count": 9,
      "outputs": [
        {
          "output_type": "execute_result",
          "data": {
            "text/plain": [
              "(49999, 3)"
            ]
          },
          "metadata": {
            "tags": []
          },
          "execution_count": 9
        }
      ]
    },
    {
      "cell_type": "code",
      "metadata": {
        "id": "Rb6To8PEMFNF",
        "colab_type": "code",
        "colab": {
          "base_uri": "https://localhost:8080/",
          "height": 35
        },
        "outputId": "35cc3eaf-09b8-4a1c-f6d4-ccf703eddbe3"
      },
      "source": [
        "# уберем шумовые длинные сообщения\n",
        "df['message_len'] = df['message'].str.len()\n",
        "\n",
        "df = df[(df['message_len'] < np.percentile(df.message_len,99))][:]\n",
        "\n",
        "df.shape"
      ],
      "execution_count": 10,
      "outputs": [
        {
          "output_type": "execute_result",
          "data": {
            "text/plain": [
              "(49499, 4)"
            ]
          },
          "metadata": {
            "tags": []
          },
          "execution_count": 10
        }
      ]
    },
    {
      "cell_type": "markdown",
      "metadata": {
        "id": "blHBEYEkMFNH",
        "colab_type": "text"
      },
      "source": [
        "# очистим весь наш текст от шумовых слов и преобразуем к первообразным формам\n"
      ]
    },
    {
      "cell_type": "code",
      "metadata": {
        "id": "xg3l-b9BMFNP",
        "colab_type": "code",
        "colab": {}
      },
      "source": [
        "list_count_words = []\n",
        "list_true_words = []\n",
        "list_tagged = []\n",
        "list_tags = []\n",
        "\n",
        "for row in  df.message:\n",
        "    words = []\n",
        "    tagged = []\n",
        "    true_words = []\n",
        "    tags = []\n",
        "    \n",
        "    a_line = row\n",
        "\n",
        "    \n",
        "    try:\n",
        "        words = re.split(' ', a_line)\n",
        "        true_words = []\n",
        "\n",
        "        for word in words:\n",
        "            m = re.search('(\\w+)',word)\n",
        "            if m is not None:\n",
        "                good_word = m.group(0)\n",
        "                true_words.append(good_word)\n",
        "\n",
        "        tagged = nltk.pos_tag(true_words)\n",
        "        tags = []\n",
        "        for tag in tagged:\n",
        "            tags.append(tag[1])\n",
        "    except:\n",
        "        pass\n",
        "\n",
        "\n",
        "\n",
        "    list_count_words.append(len(words))   \n",
        "    list_tagged.append(tagged)\n",
        "    list_true_words.append(true_words)\n",
        "    list_tags.append(tags)\n"
      ],
      "execution_count": 11,
      "outputs": []
    },
    {
      "cell_type": "code",
      "metadata": {
        "id": "VkBtsN45MFNR",
        "colab_type": "code",
        "colab": {}
      },
      "source": [
        "df['list_of_words'] = list_true_words\n",
        "df['list_of_tags'] = list_tags\n",
        "df['word_with_tag_list'] = list_tagged"
      ],
      "execution_count": 12,
      "outputs": []
    },
    {
      "cell_type": "code",
      "metadata": {
        "id": "r48xAC1iMFNW",
        "colab_type": "code",
        "colab": {}
      },
      "source": [
        "#получили новое смысловое описание атрибутов текста, видно много местоимений и другой информации, давайте очистим"
      ],
      "execution_count": null,
      "outputs": []
    },
    {
      "cell_type": "code",
      "metadata": {
        "id": "JQPm5ht9MFNY",
        "colab_type": "code",
        "colab": {}
      },
      "source": [
        "stopWords =nltk.corpus.stopwords.words()\n",
        "stopWords.append(\"the\")\n",
        "stopWords.append('i')\n",
        "stopWords.append(\"a\")\n",
        "stopWords.append('visitor')\n",
        "\n",
        "\n",
        "LANGUAGE = 'english'\n",
        "\n",
        "sw0 = [\"yeah\",\"zola\",\"don\", 'the', 'visitor', 'a','i']\n",
        "sw1 = gsw1(LANGUAGE)\n",
        "sw2 = gsw2('en')\n",
        "\n",
        "sw0.extend(list(sw1))\n",
        "sw0.extend(list(sw2))\n",
        "\n",
        "\n",
        "\n",
        "new_s_list = []\n",
        "new_lw_list = []\n",
        "new_lt_list = []\n",
        "new_lwt_list = []\n",
        "new_count_words = []\n",
        "\n",
        "for s , lw , lt ,lwt in zip (df['message'] \n",
        "                        , df['list_of_words'] \n",
        "                        , df['list_of_tags']\n",
        "                        , df['word_with_tag_list']):\n",
        "    new_s = ''\n",
        "    new_lw = []\n",
        "    new_lt = []\n",
        "    new_lwt = []\n",
        "    for w,t,lw in zip(lw,lt,lwt):\n",
        "        if t in ['NN','VB','DT','NNS','VBP','VB']:\n",
        "            new_s += w + ' '\n",
        "            new_lw.append(w)\n",
        "            new_lt.append(t)\n",
        "            new_lwt.append(lw)\n",
        "        elif w in sw0 or re.match('\\d+',w) is not None:\n",
        "            continue\n",
        "\n",
        "    \n",
        "    new_s_list.append(new_s)\n",
        "    new_lw_list.append(new_lw)\n",
        "    new_lt_list.append(new_lt)\n",
        "    new_lwt_list.append(new_lwt)\n",
        "    new_count_words.append(len(new_lw))\n",
        "        \n",
        "df['new_sentence'] = new_s_list\n",
        "df['list_of_words'] = new_lw_list\n",
        "df['list_of_tags'] = new_lt_list\n",
        "df['word_with_tag_list'] = new_lwt_list\n",
        "df['count_words'] = new_count_words\n"
      ],
      "execution_count": 13,
      "outputs": []
    },
    {
      "cell_type": "code",
      "metadata": {
        "id": "RNuNixYsMFNb",
        "colab_type": "code",
        "colab": {
          "base_uri": "https://localhost:8080/",
          "height": 107
        },
        "outputId": "ef4fe97b-f3d7-4b74-d738-7f81e26bd52f"
      },
      "source": [
        "# в итоге выделив основные главне слова, которые нам могут быть интересны потенциально\n",
        "# получили new_sentence, можнте посмотреть как он отличается\n",
        "print(f'old- {df.loc[0][\"message\"]}' )\n",
        "print('\\n')\n",
        "print(f'new -{df.loc[0][\"new_sentence\"]}' )"
      ],
      "execution_count": 14,
      "outputs": [
        {
          "output_type": "stream",
          "text": [
            "old-  chat transcript: visitor: i am attempting to verify my card however the payment is not posting. all charges typically post immediately with my bank. sofia: hello sofia: please stand by online, as it may take some time to resolve the issue. ill provide you with an update in a few minutes. thank you for your patience. \n",
            "\n",
            "\n",
            "new -visitor i am verify card the payment all charges post bank sofia hello sofia please stand online take some time resolve the issue ill an update a minutes thank patience \n"
          ],
          "name": "stdout"
        }
      ]
    },
    {
      "cell_type": "code",
      "metadata": {
        "id": "zkvMD_SwH5ph",
        "colab_type": "code",
        "colab": {}
      },
      "source": [
        "df = df[['category', \n",
        "       'list_of_tags', 'word_with_tag_list', 'new_sentence']]"
      ],
      "execution_count": 15,
      "outputs": []
    },
    {
      "cell_type": "markdown",
      "metadata": {
        "id": "YpIcEDyoMFNg",
        "colab_type": "text"
      },
      "source": [
        "# генерация вектора\n",
        "Давайте попробуем оставить только важные слова"
      ]
    },
    {
      "cell_type": "code",
      "metadata": {
        "id": "KjU6HSX0MFNh",
        "colab_type": "code",
        "colab": {}
      },
      "source": [
        "df['text_arr'] = df.new_sentence.str.split('\\W+').tolist()"
      ],
      "execution_count": 16,
      "outputs": []
    },
    {
      "cell_type": "markdown",
      "metadata": {
        "id": "09KmsaYFMFNw",
        "colab_type": "text"
      },
      "source": [
        "# стемминг\n",
        "важной частью задач nlp является преобразование к первоначальной форме, т.к. мы сужаем область поиска для слов"
      ]
    },
    {
      "cell_type": "code",
      "metadata": {
        "id": "1B_S6_cGMFNw",
        "colab_type": "code",
        "colab": {}
      },
      "source": [
        "df['text_arr'] = df.new_sentence.str.split('\\W+').tolist()"
      ],
      "execution_count": 17,
      "outputs": []
    },
    {
      "cell_type": "code",
      "metadata": {
        "id": "NHE3wuz0MFNz",
        "colab_type": "code",
        "colab": {}
      },
      "source": [
        "from nltk.stem.porter import *\n",
        "stemming = PorterStemmer()\n",
        "\n",
        "def stem_list(row):\n",
        "    my_list = row['text_arr']\n",
        "    stemmed_list = [stemming.stem(word) for word in my_list if word not in stopWords]\n",
        "    return (stemmed_list)\n",
        "\n",
        "df['stem_arr'] = df.apply(stem_list, axis=1)\n"
      ],
      "execution_count": 18,
      "outputs": []
    },
    {
      "cell_type": "code",
      "metadata": {
        "id": "1v7G9q0jEksw",
        "colab_type": "code",
        "colab": {}
      },
      "source": [
        "df = df[['stem_arr', 'category']]"
      ],
      "execution_count": 19,
      "outputs": []
    },
    {
      "cell_type": "code",
      "metadata": {
        "id": "Ijf3MQGeMFN3",
        "colab_type": "code",
        "colab": {
          "base_uri": "https://localhost:8080/",
          "height": 517
        },
        "outputId": "9b905ee8-3d36-4fd8-f69c-3a0ddf950e7a"
      },
      "source": [
        "#отлично видим что наши частовстречающиеся слова однородны\n",
        "c_text = co.Counter( np.concatenate( df['stem_arr'].tolist(), axis=0 )  )\n",
        "\n",
        "w =[]\n",
        "count_w = []\n",
        "\n",
        "\n",
        "most_freq_words = []\n",
        "\n",
        "for i in c_text.most_common(15):\n",
        "    w.append(i[0])\n",
        "    count_w.append(i[1])\n",
        "\n",
        "fig, ax = plt.subplots(figsize=(16,8))\n",
        "ax.bar(range(len(w)), count_w)\n",
        "ax.set_xticks(range(len(w)))\n",
        "ax.set_xticklabels(w)\n",
        "ax.set_title('Top Words')"
      ],
      "execution_count": 20,
      "outputs": [
        {
          "output_type": "execute_result",
          "data": {
            "text/plain": [
              "Text(0.5, 1.0, 'Top Words')"
            ]
          },
          "metadata": {
            "tags": []
          },
          "execution_count": 20
        },
        {
          "output_type": "display_data",
          "data": {
            "image/png": "[encoded data removed]",
            "text/plain": [
              "<Figure size 1152x576 with 1 Axes>"
            ]
          },
          "metadata": {
            "tags": [],
            "needs_background": "light"
          }
        }
      ]
    },
    {
      "cell_type": "code",
      "metadata": {
        "id": "wN9Oc63LMFN_",
        "colab_type": "code",
        "colab": {}
      },
      "source": [
        "#оставим для модели топ  слов\n",
        "top_words = 1500\n",
        "final_words = pd.DataFrame.from_dict(dict(c_text) , orient = 'index').sort_values(by = 0 , ascending = False).head(top_words).index.values\n",
        "\n",
        "f = lambda x: ' '.join([item for item in x if item in final_words])\n",
        "df['stem_arr'] = df['stem_arr'].apply(f)"
      ],
      "execution_count": 21,
      "outputs": []
    },
    {
      "cell_type": "code",
      "metadata": {
        "id": "cGaUQ4LmLQau",
        "colab_type": "code",
        "colab": {
          "base_uri": "https://localhost:8080/",
          "height": 415
        },
        "outputId": "c91130c2-7624-4f3c-8041-d3c50878bc54"
      },
      "source": [
        "df"
      ],
      "execution_count": 22,
      "outputs": [
        {
          "output_type": "execute_result",
          "data": {
            "text/html": [
              "<div>\n",
              "<style scoped>\n",
              "    .dataframe tbody tr th:only-of-type {\n",
              "        vertical-align: middle;\n",
              "    }\n",
              "\n",
              "    .dataframe tbody tr th {\n",
              "        vertical-align: top;\n",
              "    }\n",
              "\n",
              "    .dataframe thead th {\n",
              "        text-align: right;\n",
              "    }\n",
              "</style>\n",
              "<table border=\"1\" class=\"dataframe\">\n",
              "  <thead>\n",
              "    <tr style=\"text-align: right;\">\n",
              "      <th></th>\n",
              "      <th>stem_arr</th>\n",
              "      <th>category</th>\n",
              "    </tr>\n",
              "  </thead>\n",
              "  <tbody>\n",
              "    <tr>\n",
              "      <th>0</th>\n",
              "      <td>verifi card payment charg post bank sofia hell...</td>\n",
              "      <td>afs</td>\n",
              "    </tr>\n",
              "    <tr>\n",
              "      <th>1</th>\n",
              "      <td>hi reason didnt go thru receipt tho kate hello...</td>\n",
              "      <td>other</td>\n",
              "    </tr>\n",
              "    <tr>\n",
              "      <th>2</th>\n",
              "      <td>faceit hello pay subscript platform data site ...</td>\n",
              "      <td>afs</td>\n",
              "    </tr>\n",
              "    <tr>\n",
              "      <th>3</th>\n",
              "      <td>puedo hacer cash infelizment hablo ire googl t...</td>\n",
              "      <td>afs</td>\n",
              "    </tr>\n",
              "    <tr>\n",
              "      <th>4</th>\n",
              "      <td>hi buy bit payment hello address issu pleas wa...</td>\n",
              "      <td>afs</td>\n",
              "    </tr>\n",
              "    <tr>\n",
              "      <th>...</th>\n",
              "      <td>...</td>\n",
              "      <td>...</td>\n",
              "    </tr>\n",
              "    <tr>\n",
              "      <th>49995</th>\n",
              "      <td>make purchas bank card amount account hello pl...</td>\n",
              "      <td>afs</td>\n",
              "    </tr>\n",
              "    <tr>\n",
              "      <th>49996</th>\n",
              "      <td>gmail gmail georg georg georg</td>\n",
              "      <td>afs</td>\n",
              "    </tr>\n",
              "    <tr>\n",
              "      <th>49997</th>\n",
              "      <td>hi subscript channel use credit card give erro...</td>\n",
              "      <td>other</td>\n",
              "    </tr>\n",
              "    <tr>\n",
              "      <th>49998</th>\n",
              "      <td>file http id gmail file messag</td>\n",
              "      <td>afs</td>\n",
              "    </tr>\n",
              "    <tr>\n",
              "      <th>49999</th>\n",
              "      <td>accept card natali hello address issu pleas wa...</td>\n",
              "      <td>afs</td>\n",
              "    </tr>\n",
              "  </tbody>\n",
              "</table>\n",
              "<p>49499 rows × 2 columns</p>\n",
              "</div>"
            ],
            "text/plain": [
              "                                                stem_arr category\n",
              "0      verifi card payment charg post bank sofia hell...      afs\n",
              "1      hi reason didnt go thru receipt tho kate hello...    other\n",
              "2      faceit hello pay subscript platform data site ...      afs\n",
              "3      puedo hacer cash infelizment hablo ire googl t...      afs\n",
              "4      hi buy bit payment hello address issu pleas wa...      afs\n",
              "...                                                  ...      ...\n",
              "49995  make purchas bank card amount account hello pl...      afs\n",
              "49996                     gmail gmail georg georg georg       afs\n",
              "49997  hi subscript channel use credit card give erro...    other\n",
              "49998                    file http id gmail file messag       afs\n",
              "49999  accept card natali hello address issu pleas wa...      afs\n",
              "\n",
              "[49499 rows x 2 columns]"
            ]
          },
          "metadata": {
            "tags": []
          },
          "execution_count": 22
        }
      ]
    },
    {
      "cell_type": "markdown",
      "metadata": {
        "id": "SwuuW4e3MFOF",
        "colab_type": "text"
      },
      "source": [
        "# сделаем теперь векторное представление"
      ]
    },
    {
      "cell_type": "code",
      "metadata": {
        "id": "vkQiPUw0MFOG",
        "colab_type": "code",
        "colab": {
          "base_uri": "https://localhost:8080/",
          "height": 35
        },
        "outputId": "20620790-601e-41f4-ff31-367fc1a310ab"
      },
      "source": [
        "texts = df['stem_arr']\n",
        "\n",
        "vec = TfidfVectorizer(max_features=top_words)\n",
        "tfidf_mat = vec.fit_transform(texts).toarray()\n",
        "print(type(tfidf_mat),tfidf_mat.shape)\n",
        "#на выход получаем матрицу заданной размерности"
      ],
      "execution_count": 23,
      "outputs": [
        {
          "output_type": "stream",
          "text": [
            "<class 'numpy.ndarray'> (49499, 1492)\n"
          ],
          "name": "stdout"
        }
      ]
    },
    {
      "cell_type": "markdown",
      "metadata": {
        "id": "VdDto35uMFOI",
        "colab_type": "text"
      },
      "source": [
        "# выравнивание классов"
      ]
    },
    {
      "cell_type": "code",
      "metadata": {
        "id": "YPi9rMehMFOJ",
        "colab_type": "code",
        "colab": {
          "base_uri": "https://localhost:8080/",
          "height": 251
        },
        "outputId": "6538632a-b54e-45c2-d50b-f1d777689607"
      },
      "source": [
        "train = pd.DataFrame(tfidf_mat)\n",
        "train['category'] =  df['category']\n",
        "\n",
        "target = 'category'\n",
        "train_columns = list(set(train.columns) - set([target]))\n",
        "\n",
        "train.head()"
      ],
      "execution_count": 24,
      "outputs": [
        {
          "output_type": "execute_result",
          "data": {
            "text/html": [
              "<div>\n",
              "<style scoped>\n",
              "    .dataframe tbody tr th:only-of-type {\n",
              "        vertical-align: middle;\n",
              "    }\n",
              "\n",
              "    .dataframe tbody tr th {\n",
              "        vertical-align: top;\n",
              "    }\n",
              "\n",
              "    .dataframe thead th {\n",
              "        text-align: right;\n",
              "    }\n",
              "</style>\n",
              "<table border=\"1\" class=\"dataframe\">\n",
              "  <thead>\n",
              "    <tr style=\"text-align: right;\">\n",
              "      <th></th>\n",
              "      <th>0</th>\n",
              "      <th>1</th>\n",
              "      <th>2</th>\n",
              "      <th>3</th>\n",
              "      <th>4</th>\n",
              "      <th>5</th>\n",
              "      <th>6</th>\n",
              "      <th>7</th>\n",
              "      <th>8</th>\n",
              "      <th>9</th>\n",
              "      <th>10</th>\n",
              "      <th>11</th>\n",
              "      <th>12</th>\n",
              "      <th>13</th>\n",
              "      <th>14</th>\n",
              "      <th>15</th>\n",
              "      <th>16</th>\n",
              "      <th>17</th>\n",
              "      <th>18</th>\n",
              "      <th>19</th>\n",
              "      <th>20</th>\n",
              "      <th>21</th>\n",
              "      <th>22</th>\n",
              "      <th>23</th>\n",
              "      <th>24</th>\n",
              "      <th>25</th>\n",
              "      <th>26</th>\n",
              "      <th>27</th>\n",
              "      <th>28</th>\n",
              "      <th>29</th>\n",
              "      <th>30</th>\n",
              "      <th>31</th>\n",
              "      <th>32</th>\n",
              "      <th>33</th>\n",
              "      <th>34</th>\n",
              "      <th>35</th>\n",
              "      <th>36</th>\n",
              "      <th>37</th>\n",
              "      <th>38</th>\n",
              "      <th>39</th>\n",
              "      <th>...</th>\n",
              "      <th>1453</th>\n",
              "      <th>1454</th>\n",
              "      <th>1455</th>\n",
              "      <th>1456</th>\n",
              "      <th>1457</th>\n",
              "      <th>1458</th>\n",
              "      <th>1459</th>\n",
              "      <th>1460</th>\n",
              "      <th>1461</th>\n",
              "      <th>1462</th>\n",
              "      <th>1463</th>\n",
              "      <th>1464</th>\n",
              "      <th>1465</th>\n",
              "      <th>1466</th>\n",
              "      <th>1467</th>\n",
              "      <th>1468</th>\n",
              "      <th>1469</th>\n",
              "      <th>1470</th>\n",
              "      <th>1471</th>\n",
              "      <th>1472</th>\n",
              "      <th>1473</th>\n",
              "      <th>1474</th>\n",
              "      <th>1475</th>\n",
              "      <th>1476</th>\n",
              "      <th>1477</th>\n",
              "      <th>1478</th>\n",
              "      <th>1479</th>\n",
              "      <th>1480</th>\n",
              "      <th>1481</th>\n",
              "      <th>1482</th>\n",
              "      <th>1483</th>\n",
              "      <th>1484</th>\n",
              "      <th>1485</th>\n",
              "      <th>1486</th>\n",
              "      <th>1487</th>\n",
              "      <th>1488</th>\n",
              "      <th>1489</th>\n",
              "      <th>1490</th>\n",
              "      <th>1491</th>\n",
              "      <th>category</th>\n",
              "    </tr>\n",
              "  </thead>\n",
              "  <tbody>\n",
              "    <tr>\n",
              "      <th>0</th>\n",
              "      <td>0.0</td>\n",
              "      <td>0.0</td>\n",
              "      <td>0.0</td>\n",
              "      <td>0.0</td>\n",
              "      <td>0.0</td>\n",
              "      <td>0.0</td>\n",
              "      <td>0.000000</td>\n",
              "      <td>0.0</td>\n",
              "      <td>0.0</td>\n",
              "      <td>0.0</td>\n",
              "      <td>0.0000</td>\n",
              "      <td>0.0</td>\n",
              "      <td>0.0</td>\n",
              "      <td>0.0</td>\n",
              "      <td>0.0</td>\n",
              "      <td>0.0</td>\n",
              "      <td>0.000000</td>\n",
              "      <td>0.0</td>\n",
              "      <td>0.0</td>\n",
              "      <td>0.0</td>\n",
              "      <td>0.0</td>\n",
              "      <td>0.0</td>\n",
              "      <td>0.0</td>\n",
              "      <td>0.0</td>\n",
              "      <td>0.0</td>\n",
              "      <td>0.0</td>\n",
              "      <td>0.0</td>\n",
              "      <td>0.0</td>\n",
              "      <td>0.0</td>\n",
              "      <td>0.0</td>\n",
              "      <td>0.0</td>\n",
              "      <td>0.0</td>\n",
              "      <td>0.0</td>\n",
              "      <td>0.0</td>\n",
              "      <td>0.0</td>\n",
              "      <td>0.0</td>\n",
              "      <td>0.0</td>\n",
              "      <td>0.0</td>\n",
              "      <td>0.0</td>\n",
              "      <td>0.0</td>\n",
              "      <td>...</td>\n",
              "      <td>0.0</td>\n",
              "      <td>0.0</td>\n",
              "      <td>0.0</td>\n",
              "      <td>0.0</td>\n",
              "      <td>0.0</td>\n",
              "      <td>0.0</td>\n",
              "      <td>0.0</td>\n",
              "      <td>0.0</td>\n",
              "      <td>0.0</td>\n",
              "      <td>0.0</td>\n",
              "      <td>0.0</td>\n",
              "      <td>0.0</td>\n",
              "      <td>0.0</td>\n",
              "      <td>0.0</td>\n",
              "      <td>0.0</td>\n",
              "      <td>0.0</td>\n",
              "      <td>0.0</td>\n",
              "      <td>0.0</td>\n",
              "      <td>0.0</td>\n",
              "      <td>0.0</td>\n",
              "      <td>0.0</td>\n",
              "      <td>0.0</td>\n",
              "      <td>0.0</td>\n",
              "      <td>0.0</td>\n",
              "      <td>0.0</td>\n",
              "      <td>0.0</td>\n",
              "      <td>0.0</td>\n",
              "      <td>0.0</td>\n",
              "      <td>0.0</td>\n",
              "      <td>0.0</td>\n",
              "      <td>0.0</td>\n",
              "      <td>0.0</td>\n",
              "      <td>0.0</td>\n",
              "      <td>0.0</td>\n",
              "      <td>0.0</td>\n",
              "      <td>0.0</td>\n",
              "      <td>0.0</td>\n",
              "      <td>0.0</td>\n",
              "      <td>0.0</td>\n",
              "      <td>afs</td>\n",
              "    </tr>\n",
              "    <tr>\n",
              "      <th>1</th>\n",
              "      <td>0.0</td>\n",
              "      <td>0.0</td>\n",
              "      <td>0.0</td>\n",
              "      <td>0.0</td>\n",
              "      <td>0.0</td>\n",
              "      <td>0.0</td>\n",
              "      <td>0.185563</td>\n",
              "      <td>0.0</td>\n",
              "      <td>0.0</td>\n",
              "      <td>0.0</td>\n",
              "      <td>0.0000</td>\n",
              "      <td>0.0</td>\n",
              "      <td>0.0</td>\n",
              "      <td>0.0</td>\n",
              "      <td>0.0</td>\n",
              "      <td>0.0</td>\n",
              "      <td>0.000000</td>\n",
              "      <td>0.0</td>\n",
              "      <td>0.0</td>\n",
              "      <td>0.0</td>\n",
              "      <td>0.0</td>\n",
              "      <td>0.0</td>\n",
              "      <td>0.0</td>\n",
              "      <td>0.0</td>\n",
              "      <td>0.0</td>\n",
              "      <td>0.0</td>\n",
              "      <td>0.0</td>\n",
              "      <td>0.0</td>\n",
              "      <td>0.0</td>\n",
              "      <td>0.0</td>\n",
              "      <td>0.0</td>\n",
              "      <td>0.0</td>\n",
              "      <td>0.0</td>\n",
              "      <td>0.0</td>\n",
              "      <td>0.0</td>\n",
              "      <td>0.0</td>\n",
              "      <td>0.0</td>\n",
              "      <td>0.0</td>\n",
              "      <td>0.0</td>\n",
              "      <td>0.0</td>\n",
              "      <td>...</td>\n",
              "      <td>0.0</td>\n",
              "      <td>0.0</td>\n",
              "      <td>0.0</td>\n",
              "      <td>0.0</td>\n",
              "      <td>0.0</td>\n",
              "      <td>0.0</td>\n",
              "      <td>0.0</td>\n",
              "      <td>0.0</td>\n",
              "      <td>0.0</td>\n",
              "      <td>0.0</td>\n",
              "      <td>0.0</td>\n",
              "      <td>0.0</td>\n",
              "      <td>0.0</td>\n",
              "      <td>0.0</td>\n",
              "      <td>0.0</td>\n",
              "      <td>0.0</td>\n",
              "      <td>0.0</td>\n",
              "      <td>0.0</td>\n",
              "      <td>0.0</td>\n",
              "      <td>0.0</td>\n",
              "      <td>0.0</td>\n",
              "      <td>0.0</td>\n",
              "      <td>0.0</td>\n",
              "      <td>0.0</td>\n",
              "      <td>0.0</td>\n",
              "      <td>0.0</td>\n",
              "      <td>0.0</td>\n",
              "      <td>0.0</td>\n",
              "      <td>0.0</td>\n",
              "      <td>0.0</td>\n",
              "      <td>0.0</td>\n",
              "      <td>0.0</td>\n",
              "      <td>0.0</td>\n",
              "      <td>0.0</td>\n",
              "      <td>0.0</td>\n",
              "      <td>0.0</td>\n",
              "      <td>0.0</td>\n",
              "      <td>0.0</td>\n",
              "      <td>0.0</td>\n",
              "      <td>other</td>\n",
              "    </tr>\n",
              "    <tr>\n",
              "      <th>2</th>\n",
              "      <td>0.0</td>\n",
              "      <td>0.0</td>\n",
              "      <td>0.0</td>\n",
              "      <td>0.0</td>\n",
              "      <td>0.0</td>\n",
              "      <td>0.0</td>\n",
              "      <td>0.000000</td>\n",
              "      <td>0.0</td>\n",
              "      <td>0.0</td>\n",
              "      <td>0.0</td>\n",
              "      <td>0.0000</td>\n",
              "      <td>0.0</td>\n",
              "      <td>0.0</td>\n",
              "      <td>0.0</td>\n",
              "      <td>0.0</td>\n",
              "      <td>0.0</td>\n",
              "      <td>0.000000</td>\n",
              "      <td>0.0</td>\n",
              "      <td>0.0</td>\n",
              "      <td>0.0</td>\n",
              "      <td>0.0</td>\n",
              "      <td>0.0</td>\n",
              "      <td>0.0</td>\n",
              "      <td>0.0</td>\n",
              "      <td>0.0</td>\n",
              "      <td>0.0</td>\n",
              "      <td>0.0</td>\n",
              "      <td>0.0</td>\n",
              "      <td>0.0</td>\n",
              "      <td>0.0</td>\n",
              "      <td>0.0</td>\n",
              "      <td>0.0</td>\n",
              "      <td>0.0</td>\n",
              "      <td>0.0</td>\n",
              "      <td>0.0</td>\n",
              "      <td>0.0</td>\n",
              "      <td>0.0</td>\n",
              "      <td>0.0</td>\n",
              "      <td>0.0</td>\n",
              "      <td>0.0</td>\n",
              "      <td>...</td>\n",
              "      <td>0.0</td>\n",
              "      <td>0.0</td>\n",
              "      <td>0.0</td>\n",
              "      <td>0.0</td>\n",
              "      <td>0.0</td>\n",
              "      <td>0.0</td>\n",
              "      <td>0.0</td>\n",
              "      <td>0.0</td>\n",
              "      <td>0.0</td>\n",
              "      <td>0.0</td>\n",
              "      <td>0.0</td>\n",
              "      <td>0.0</td>\n",
              "      <td>0.0</td>\n",
              "      <td>0.0</td>\n",
              "      <td>0.0</td>\n",
              "      <td>0.0</td>\n",
              "      <td>0.0</td>\n",
              "      <td>0.0</td>\n",
              "      <td>0.0</td>\n",
              "      <td>0.0</td>\n",
              "      <td>0.0</td>\n",
              "      <td>0.0</td>\n",
              "      <td>0.0</td>\n",
              "      <td>0.0</td>\n",
              "      <td>0.0</td>\n",
              "      <td>0.0</td>\n",
              "      <td>0.0</td>\n",
              "      <td>0.0</td>\n",
              "      <td>0.0</td>\n",
              "      <td>0.0</td>\n",
              "      <td>0.0</td>\n",
              "      <td>0.0</td>\n",
              "      <td>0.0</td>\n",
              "      <td>0.0</td>\n",
              "      <td>0.0</td>\n",
              "      <td>0.0</td>\n",
              "      <td>0.0</td>\n",
              "      <td>0.0</td>\n",
              "      <td>0.0</td>\n",
              "      <td>afs</td>\n",
              "    </tr>\n",
              "    <tr>\n",
              "      <th>3</th>\n",
              "      <td>0.0</td>\n",
              "      <td>0.0</td>\n",
              "      <td>0.0</td>\n",
              "      <td>0.0</td>\n",
              "      <td>0.0</td>\n",
              "      <td>0.0</td>\n",
              "      <td>0.000000</td>\n",
              "      <td>0.0</td>\n",
              "      <td>0.0</td>\n",
              "      <td>0.0</td>\n",
              "      <td>0.1782</td>\n",
              "      <td>0.0</td>\n",
              "      <td>0.0</td>\n",
              "      <td>0.0</td>\n",
              "      <td>0.0</td>\n",
              "      <td>0.0</td>\n",
              "      <td>0.000000</td>\n",
              "      <td>0.0</td>\n",
              "      <td>0.0</td>\n",
              "      <td>0.0</td>\n",
              "      <td>0.0</td>\n",
              "      <td>0.0</td>\n",
              "      <td>0.0</td>\n",
              "      <td>0.0</td>\n",
              "      <td>0.0</td>\n",
              "      <td>0.0</td>\n",
              "      <td>0.0</td>\n",
              "      <td>0.0</td>\n",
              "      <td>0.0</td>\n",
              "      <td>0.0</td>\n",
              "      <td>0.0</td>\n",
              "      <td>0.0</td>\n",
              "      <td>0.0</td>\n",
              "      <td>0.0</td>\n",
              "      <td>0.0</td>\n",
              "      <td>0.0</td>\n",
              "      <td>0.0</td>\n",
              "      <td>0.0</td>\n",
              "      <td>0.0</td>\n",
              "      <td>0.0</td>\n",
              "      <td>...</td>\n",
              "      <td>0.0</td>\n",
              "      <td>0.0</td>\n",
              "      <td>0.0</td>\n",
              "      <td>0.0</td>\n",
              "      <td>0.0</td>\n",
              "      <td>0.0</td>\n",
              "      <td>0.0</td>\n",
              "      <td>0.0</td>\n",
              "      <td>0.0</td>\n",
              "      <td>0.0</td>\n",
              "      <td>0.0</td>\n",
              "      <td>0.0</td>\n",
              "      <td>0.0</td>\n",
              "      <td>0.0</td>\n",
              "      <td>0.0</td>\n",
              "      <td>0.0</td>\n",
              "      <td>0.0</td>\n",
              "      <td>0.0</td>\n",
              "      <td>0.0</td>\n",
              "      <td>0.0</td>\n",
              "      <td>0.0</td>\n",
              "      <td>0.0</td>\n",
              "      <td>0.0</td>\n",
              "      <td>0.0</td>\n",
              "      <td>0.0</td>\n",
              "      <td>0.0</td>\n",
              "      <td>0.0</td>\n",
              "      <td>0.0</td>\n",
              "      <td>0.0</td>\n",
              "      <td>0.0</td>\n",
              "      <td>0.0</td>\n",
              "      <td>0.0</td>\n",
              "      <td>0.0</td>\n",
              "      <td>0.0</td>\n",
              "      <td>0.0</td>\n",
              "      <td>0.0</td>\n",
              "      <td>0.0</td>\n",
              "      <td>0.0</td>\n",
              "      <td>0.0</td>\n",
              "      <td>afs</td>\n",
              "    </tr>\n",
              "    <tr>\n",
              "      <th>4</th>\n",
              "      <td>0.0</td>\n",
              "      <td>0.0</td>\n",
              "      <td>0.0</td>\n",
              "      <td>0.0</td>\n",
              "      <td>0.0</td>\n",
              "      <td>0.0</td>\n",
              "      <td>0.000000</td>\n",
              "      <td>0.0</td>\n",
              "      <td>0.0</td>\n",
              "      <td>0.0</td>\n",
              "      <td>0.0000</td>\n",
              "      <td>0.0</td>\n",
              "      <td>0.0</td>\n",
              "      <td>0.0</td>\n",
              "      <td>0.0</td>\n",
              "      <td>0.0</td>\n",
              "      <td>0.232333</td>\n",
              "      <td>0.0</td>\n",
              "      <td>0.0</td>\n",
              "      <td>0.0</td>\n",
              "      <td>0.0</td>\n",
              "      <td>0.0</td>\n",
              "      <td>0.0</td>\n",
              "      <td>0.0</td>\n",
              "      <td>0.0</td>\n",
              "      <td>0.0</td>\n",
              "      <td>0.0</td>\n",
              "      <td>0.0</td>\n",
              "      <td>0.0</td>\n",
              "      <td>0.0</td>\n",
              "      <td>0.0</td>\n",
              "      <td>0.0</td>\n",
              "      <td>0.0</td>\n",
              "      <td>0.0</td>\n",
              "      <td>0.0</td>\n",
              "      <td>0.0</td>\n",
              "      <td>0.0</td>\n",
              "      <td>0.0</td>\n",
              "      <td>0.0</td>\n",
              "      <td>0.0</td>\n",
              "      <td>...</td>\n",
              "      <td>0.0</td>\n",
              "      <td>0.0</td>\n",
              "      <td>0.0</td>\n",
              "      <td>0.0</td>\n",
              "      <td>0.0</td>\n",
              "      <td>0.0</td>\n",
              "      <td>0.0</td>\n",
              "      <td>0.0</td>\n",
              "      <td>0.0</td>\n",
              "      <td>0.0</td>\n",
              "      <td>0.0</td>\n",
              "      <td>0.0</td>\n",
              "      <td>0.0</td>\n",
              "      <td>0.0</td>\n",
              "      <td>0.0</td>\n",
              "      <td>0.0</td>\n",
              "      <td>0.0</td>\n",
              "      <td>0.0</td>\n",
              "      <td>0.0</td>\n",
              "      <td>0.0</td>\n",
              "      <td>0.0</td>\n",
              "      <td>0.0</td>\n",
              "      <td>0.0</td>\n",
              "      <td>0.0</td>\n",
              "      <td>0.0</td>\n",
              "      <td>0.0</td>\n",
              "      <td>0.0</td>\n",
              "      <td>0.0</td>\n",
              "      <td>0.0</td>\n",
              "      <td>0.0</td>\n",
              "      <td>0.0</td>\n",
              "      <td>0.0</td>\n",
              "      <td>0.0</td>\n",
              "      <td>0.0</td>\n",
              "      <td>0.0</td>\n",
              "      <td>0.0</td>\n",
              "      <td>0.0</td>\n",
              "      <td>0.0</td>\n",
              "      <td>0.0</td>\n",
              "      <td>afs</td>\n",
              "    </tr>\n",
              "  </tbody>\n",
              "</table>\n",
              "<p>5 rows × 1493 columns</p>\n",
              "</div>"
            ],
            "text/plain": [
              "     0    1    2    3    4    5  ...  1487  1488  1489  1490  1491  category\n",
              "0  0.0  0.0  0.0  0.0  0.0  0.0  ...   0.0   0.0   0.0   0.0   0.0       afs\n",
              "1  0.0  0.0  0.0  0.0  0.0  0.0  ...   0.0   0.0   0.0   0.0   0.0     other\n",
              "2  0.0  0.0  0.0  0.0  0.0  0.0  ...   0.0   0.0   0.0   0.0   0.0       afs\n",
              "3  0.0  0.0  0.0  0.0  0.0  0.0  ...   0.0   0.0   0.0   0.0   0.0       afs\n",
              "4  0.0  0.0  0.0  0.0  0.0  0.0  ...   0.0   0.0   0.0   0.0   0.0       afs\n",
              "\n",
              "[5 rows x 1493 columns]"
            ]
          },
          "metadata": {
            "tags": []
          },
          "execution_count": 24
        }
      ]
    },
    {
      "cell_type": "code",
      "metadata": {
        "id": "S7Shgq1BMFOL",
        "colab_type": "code",
        "colab": {}
      },
      "source": [
        "train.dropna(inplace = True)"
      ],
      "execution_count": 25,
      "outputs": []
    },
    {
      "cell_type": "code",
      "metadata": {
        "id": "hS4xd_VcMFOP",
        "colab_type": "code",
        "colab": {}
      },
      "source": [
        "#переводим в инты таргет\n",
        "labels, levels = pd.factorize(train[target])\n",
        "train['category_int'] = labels\n",
        "\n",
        "target = 'category_int'"
      ],
      "execution_count": 26,
      "outputs": []
    },
    {
      "cell_type": "code",
      "metadata": {
        "id": "V6C0ImJRMFOT",
        "colab_type": "code",
        "colab": {
          "base_uri": "https://localhost:8080/",
          "height": 278
        },
        "outputId": "9f50f1ab-5fb6-44ef-8ea0-fab2b3b12c47"
      },
      "source": [
        "train[target].value_counts().plot(kind='bar', title='Count (target)');"
      ],
      "execution_count": 27,
      "outputs": [
        {
          "output_type": "display_data",
          "data": {
            "image/png": "[encoded data removed]",
            "text/plain": [
              "<Figure size 432x288 with 1 Axes>"
            ]
          },
          "metadata": {
            "tags": [],
            "needs_background": "light"
          }
        }
      ]
    },
    {
      "cell_type": "code",
      "metadata": {
        "id": "d7VR_LoNMFOW",
        "colab_type": "code",
        "colab": {
          "base_uri": "https://localhost:8080/",
          "height": 350
        },
        "outputId": "cc4452ca-91e9-4a63-da2d-24655c09f80d"
      },
      "source": [
        "#сделаем оверсемплинг\n",
        "from imblearn.over_sampling import RandomOverSampler\n",
        "\n",
        "ros = RandomOverSampler()\n",
        "X_ros, y_ros = ros.fit_sample(train[train_columns], train[target])\n",
        "\n",
        "X_ros = pd.DataFrame(X_ros)\n",
        "y_ros = pd.DataFrame(y_ros)\n",
        "\n",
        "print(f'rate target detect fight in game {sum(y_ros) / X_ros.shape[0]}')\n",
        "\n",
        "y_ros[0].value_counts().plot(kind='bar', title='Count (target)');\n"
      ],
      "execution_count": 29,
      "outputs": [
        {
          "output_type": "stream",
          "text": [
            "/usr/local/lib/python3.6/dist-packages/sklearn/utils/deprecation.py:87: FutureWarning: Function safe_indexing is deprecated; safe_indexing is deprecated in version 0.22 and will be removed in version 0.24.\n",
            "  warnings.warn(msg, category=FutureWarning)\n"
          ],
          "name": "stderr"
        },
        {
          "output_type": "stream",
          "text": [
            "rate target detect fight in game 0.0\n"
          ],
          "name": "stdout"
        },
        {
          "output_type": "display_data",
          "data": {
            "image/png": "[encoded data removed]",
            "text/plain": [
              "<Figure size 432x288 with 1 Axes>"
            ]
          },
          "metadata": {
            "tags": [],
            "needs_background": "light"
          }
        }
      ]
    },
    {
      "cell_type": "code",
      "metadata": {
        "id": "5YcjwXsKMFOY",
        "colab_type": "code",
        "colab": {}
      },
      "source": [
        "X_ros[target] = y_ros\n",
        "train = X_ros[:]"
      ],
      "execution_count": 30,
      "outputs": []
    },
    {
      "cell_type": "markdown",
      "metadata": {
        "id": "ImGdJjdRMFOb",
        "colab_type": "text"
      },
      "source": [
        "# наконец переходим к модели"
      ]
    },
    {
      "cell_type": "code",
      "metadata": {
        "id": "IO1iXlLJMFOe",
        "colab_type": "code",
        "colab": {
          "base_uri": "https://localhost:8080/",
          "height": 52
        },
        "outputId": "e0801046-db68-48b3-9685-f9ebef071cb6"
      },
      "source": [
        "#отложим выборку для финальной оценки\n",
        "\n",
        "from sklearn.model_selection import train_test_split\n",
        "x_train, x_test, y_train, y_test = train_test_split(train[train_columns]\n",
        "                                                    , train[target] \n",
        "                                                    , test_size=0.2\n",
        "                                                    , random_state=42 \n",
        "                                                    , stratify = train[target] \n",
        "                                                   )\n",
        "\n",
        "print(f'Train set: {x_train.shape[0]} size , {sum(y_train) / x_train.shape[0]} target size')\n",
        "print(f'Test set: {x_test.shape[0]} size , {sum(y_test) / x_test.shape[0]} target size')\n"
      ],
      "execution_count": 31,
      "outputs": [
        {
          "output_type": "stream",
          "text": [
            "Train set: 82584 size , 1.0 target size\n",
            "Test set: 20646 size , 1.0 target size\n"
          ],
          "name": "stdout"
        }
      ]
    },
    {
      "cell_type": "markdown",
      "metadata": {
        "id": "3KMJ_W2wfYtz",
        "colab_type": "text"
      },
      "source": [
        "# Сделаем полносвязную сеть на pytorch"
      ]
    },
    {
      "cell_type": "code",
      "metadata": {
        "id": "JbnAZ_Jtm2LO",
        "colab_type": "code",
        "colab": {}
      },
      "source": [
        "import torch\n",
        "from torch import nn\n",
        "import torch.nn.functional as F\n",
        "\n",
        "torch.manual_seed(42) \n",
        "np.random.seed(42)\n",
        "model = nn.Sequential(\n",
        "    nn.Linear(1492,800),\n",
        "    nn.ReLU(),\n",
        "    nn.Dropout(0.8),\n",
        "\n",
        "    nn.BatchNorm1d(800),\n",
        "    nn.Linear(800,500),\n",
        "    nn.ReLU(),\n",
        "    nn.Dropout(0.8),\n",
        "\n",
        "    nn.BatchNorm1d(500),\n",
        "    nn.Linear(500,200),\n",
        "    nn.ReLU(),\n",
        "    nn.Dropout(0.8),\n",
        "    \n",
        "    nn.BatchNorm1d(200),\n",
        "    nn.Linear(200,3)\n",
        ")\n",
        "    \n",
        "loss_fn = nn.CrossEntropyLoss()\n",
        "optimizer = torch.optim.Adam(model.parameters(), lr=0.001)\n",
        "\n",
        "#функция тренировки\n",
        "def train(X_train, y_train, X_test, y_test, num_epoch):\n",
        "    train_losses = []\n",
        "    test_losses = []\n",
        "    for i in range(num_epoch):\n",
        "        epoch_train_losses = []\n",
        "        for X_batch, y_batch in batch_generator(X_train, y_train, 500):\n",
        "            model.train(True)\n",
        "            y_pred = model(X_batch) \n",
        "            \n",
        "            #print(type(y_pred), type(y_batch))\n",
        "            loss= loss_fn(y_pred,y_batch)\n",
        "            \n",
        "            # зануляем градиент\n",
        "            optimizer.zero_grad()\n",
        "            loss.backward()\n",
        "            optimizer.step()\n",
        "            epoch_train_losses.append(loss.data)    \n",
        "        train_losses.append(np.nanmean(epoch_train_losses))\n",
        "        print('trainloss:', np.nanmean(epoch_train_losses))\n",
        "\n",
        "    return train_losses\n",
        "\n",
        "\n",
        "# функция-генератор батчей\n",
        "def batch_generator(X, y, batch_size):\n",
        "    np.random.seed(42)\n",
        "    perm = np.random.permutation(len(X))\n",
        "    for i in range((X.shape[0]//batch_size)+1):\n",
        "      yield X[perm[i*batch_size:i*batch_size+batch_size],],y[perm[i*batch_size:i*batch_size+batch_size],] \n",
        "\n"
      ],
      "execution_count": 32,
      "outputs": []
    },
    {
      "cell_type": "code",
      "metadata": {
        "id": "ZZAKtyLLr0wJ",
        "colab_type": "code",
        "colab": {}
      },
      "source": [
        "device=torch.device(\"cpu\")\n",
        "model = model.to(device)"
      ],
      "execution_count": 33,
      "outputs": []
    },
    {
      "cell_type": "code",
      "metadata": {
        "id": "wmgWoQ8Cuu2h",
        "colab_type": "code",
        "colab": {}
      },
      "source": [
        "#переведем все в тензоры\n",
        "x_train_t = torch.FloatTensor(np.array(x_train)).to(device)\n",
        "y_train_t = torch.LongTensor(np.array(y_train)).to(device)\n",
        "x_test_t = torch.FloatTensor(np.array(x_test)).to(device)\n",
        "y_test_t = torch.LongTensor(np.array(y_test)).to(device)"
      ],
      "execution_count": 34,
      "outputs": []
    },
    {
      "cell_type": "code",
      "metadata": {
        "id": "lnAF6xLkqBGh",
        "colab_type": "code",
        "colab": {
          "base_uri": "https://localhost:8080/",
          "height": 1000
        },
        "outputId": "bd6b2900-5aca-424a-9bc7-d073bbbc4982"
      },
      "source": [
        "#запустим обучение\n",
        "train_losses = train(x_train_t,y_train_t, x_test_t, y_test_t, 50) #Подберите количество эпох так, чтобы график loss сходился\n",
        "plt.plot(range(len(train_losses)), train_losses, label='train')\n",
        "plt.legend()\n",
        "plt.show()"
      ],
      "execution_count": null,
      "outputs": [
        {
          "output_type": "stream",
          "text": [
            "trainloss: 0.3551353\n",
            "trainloss: 0.3529774\n",
            "trainloss: 0.34437886\n",
            "trainloss: 0.349559\n",
            "trainloss: 0.34708312\n",
            "trainloss: 0.34515685\n",
            "trainloss: 0.34519935\n",
            "trainloss: 0.34516189\n",
            "trainloss: 0.34735507\n",
            "trainloss: 0.3474788\n",
            "trainloss: 0.347391\n",
            "trainloss: 0.3477846\n",
            "trainloss: 0.34555057\n",
            "trainloss: 0.34615585\n",
            "trainloss: 0.3442226\n",
            "trainloss: 0.34425294\n",
            "trainloss: 0.34354877\n",
            "trainloss: 0.3443618\n",
            "trainloss: 0.34338236\n",
            "trainloss: 0.34499767\n",
            "trainloss: 0.34260207\n",
            "trainloss: 0.34144577\n",
            "trainloss: 0.33905917\n",
            "trainloss: 0.34501335\n",
            "trainloss: 0.34104657\n",
            "trainloss: 0.34310815\n",
            "trainloss: 0.34089652\n",
            "trainloss: 0.33961037\n",
            "trainloss: 0.34173864\n",
            "trainloss: 0.33434558\n",
            "trainloss: 0.33816534\n",
            "trainloss: 0.33858776\n",
            "trainloss: 0.33690464\n",
            "trainloss: 0.3375685\n",
            "trainloss: 0.33615845\n",
            "trainloss: 0.33864203\n",
            "trainloss: 0.33795643\n",
            "trainloss: 0.33582872\n",
            "trainloss: 0.33653194\n",
            "trainloss: 0.338636\n",
            "trainloss: 0.33447123\n",
            "trainloss: 0.33362418\n",
            "trainloss: 0.33299834\n",
            "trainloss: 0.33380634\n",
            "trainloss: 0.3357159\n",
            "trainloss: 0.3342045\n",
            "trainloss: 0.33111832\n",
            "trainloss: 0.33369341\n",
            "trainloss: 0.33559665\n",
            "trainloss: 0.33563054\n"
          ],
          "name": "stdout"
        },
        {
          "output_type": "display_data",
          "data": {
            "image/png": "[encoded data removed]",
            "text/plain": [
              "<Figure size 432x288 with 1 Axes>"
            ]
          },
          "metadata": {
            "tags": [],
            "needs_background": "light"
          }
        }
      ]
    },
    {
      "cell_type": "markdown",
      "metadata": {
        "id": "I1p-lpqYfrO2",
        "colab_type": "text"
      },
      "source": [
        "300 эпох спустя"
      ]
    },
    {
      "cell_type": "code",
      "metadata": {
        "id": "uF0jNscupr-N",
        "colab_type": "code",
        "colab": {
          "base_uri": "https://localhost:8080/",
          "height": 191
        },
        "outputId": "b573d181-bdb6-4bf2-d4b5-2b54d2d209f4"
      },
      "source": [
        "from sklearn.metrics import classification_report,confusion_matrix\n",
        "model.eval()\n",
        "predd = model.forward(x_test_t).max(1)[1]\n",
        "print(classification_report(y_test,predd))"
      ],
      "execution_count": null,
      "outputs": [
        {
          "output_type": "stream",
          "text": [
            "              precision    recall  f1-score   support\n",
            "\n",
            "           0       0.93      0.79      0.85      6882\n",
            "           1       0.75      0.97      0.85      6882\n",
            "           2       0.95      0.83      0.89      6882\n",
            "\n",
            "    accuracy                           0.86     20646\n",
            "   macro avg       0.88      0.86      0.86     20646\n",
            "weighted avg       0.88      0.86      0.86     20646\n",
            "\n"
          ],
          "name": "stdout"
        }
      ]
    },
    {
      "cell_type": "markdown",
      "metadata": {
        "id": "Crg4mWjufxPO",
        "colab_type": "text"
      },
      "source": [
        "Сохраним модели"
      ]
    },
    {
      "cell_type": "code",
      "metadata": {
        "id": "XPpG5D8ywO24",
        "colab_type": "code",
        "colab": {}
      },
      "source": [
        "torch.save(model.state_dict(), \"/content/drive/My Drive/Xsolla/nets/weights_86acc.pt\")\n",
        "import pickle\n",
        "pickle.dump(vec, open(\"/content/drive/My Drive/Xsolla/nets/mytfidf.pickle\", \"wb\"))"
      ],
      "execution_count": null,
      "outputs": []
    },
    {
      "cell_type": "code",
      "metadata": {
        "id": "6O3bqiT6y9RU",
        "colab_type": "code",
        "colab": {
          "base_uri": "https://localhost:8080/",
          "height": 35
        },
        "outputId": "0f67fb0d-d6e3-4c8a-86e0-e52ccb3f7c17"
      },
      "source": [
        "model.load_state_dict(torch.load(\"/content/drive/My Drive/Xsolla/nets/weights_86.pt\"))"
      ],
      "execution_count": null,
      "outputs": [
        {
          "output_type": "execute_result",
          "data": {
            "text/plain": [
              "<All keys matched successfully>"
            ]
          },
          "metadata": {
            "tags": []
          },
          "execution_count": 93
        }
      ]
    }
  ]
}